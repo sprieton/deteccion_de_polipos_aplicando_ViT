{
 "cells": [
  {
   "cell_type": "code",
   "execution_count": 12,
   "metadata": {},
   "outputs": [
    {
     "data": {
      "application/vnd.jupyter.widget-view+json": {
       "model_id": "2c95bdea1082437ab518824b41eb497b",
       "version_major": 2,
       "version_minor": 0
      },
      "text/plain": [
       "VBox(children=(Button(description='Siguiente', style=ButtonStyle()), Output()))"
      ]
     },
     "metadata": {},
     "output_type": "display_data"
    }
   ],
   "source": [
    "from IPython.display import display\n",
    "from ipywidgets import Button, HBox, VBox, Output\n",
    "from PIL import Image\n",
    "from pathlib import Path\n",
    "import matplotlib.pyplot as plt\n",
    "import os\n",
    "\n",
    "# Rutas a tus carpetas de imágenes\n",
    "split = \"test\"\n",
    "dir_mask = Path(f\"../datasets/piccolo_dataset/{split}/masks\")\n",
    "dir_polyp = Path(f\"../datasets/piccolo_dataset/{split}/polyps\")\n",
    "\n",
    "valid_prefixes = [\"018\"]\n",
    "\n",
    "# Función auxiliar para verificar si una ruta tiene un nombre que empieza con un prefijo válido\n",
    "def has_valid_prefix(path, prefixes):\n",
    "    return any(path.name.startswith(pref) for pref in prefixes)\n",
    "\n",
    "# Filtrar las listas\n",
    "images_mask = sorted([img for img in dir_mask.glob(\"*.tif\") if has_valid_prefix(img, valid_prefixes)])\n",
    "images_polyp = sorted([img for img in dir_polyp.glob(\"*.png\") if has_valid_prefix(img, valid_prefixes)])\n",
    "\n",
    "assert len(images_mask) == len(images_polyp), \"Las carpetas no tienen el mismo número de imágenes\"\n",
    "\n",
    "# Estado\n",
    "index = {'i': 0}\n",
    "\n",
    "# Salida\n",
    "out = Output()\n",
    "\n",
    "def show_images(i):\n",
    "    out.clear_output(wait=True)\n",
    "    with out:\n",
    "        fig, axs = plt.subplots(1, 2, figsize=(12, 6))\n",
    "        axs[0].imshow(Image.open(images_polyp[i]))\n",
    "        axs[0].set_title(f\"Imagen {i+1}: {os.path.basename(images_polyp[i])}\")\n",
    "        axs[0].axis(\"off\")\n",
    "\n",
    "        axs[1].imshow(Image.open(images_mask[i]))\n",
    "        axs[1].set_title(f\"Máscara {i+1}\")\n",
    "        axs[1].axis(\"off\")\n",
    "\n",
    "        plt.tight_layout()\n",
    "        plt.show()\n",
    "\n",
    "# Botón\n",
    "btn_next = Button(description=\"Siguiente\")\n",
    "def on_next_clicked(b):\n",
    "    index['i'] = (index['i'] + 1) % len(images_mask)\n",
    "    show_images(index['i'])\n",
    "\n",
    "btn_next.on_click(on_next_clicked)\n",
    "\n",
    "# Mostrar\n",
    "display(VBox([btn_next, out]))\n",
    "show_images(index['i'])"
   ]
  }
 ],
 "metadata": {
  "kernelspec": {
   "display_name": "polyp_vit",
   "language": "python",
   "name": "python3"
  },
  "language_info": {
   "codemirror_mode": {
    "name": "ipython",
    "version": 3
   },
   "file_extension": ".py",
   "mimetype": "text/x-python",
   "name": "python",
   "nbconvert_exporter": "python",
   "pygments_lexer": "ipython3",
   "version": "3.12.8"
  }
 },
 "nbformat": 4,
 "nbformat_minor": 2
}
